{
 "cells": [
  {
   "cell_type": "code",
   "execution_count": 3,
   "id": "19b43758-fd76-413d-b358-86e420192618",
   "metadata": {},
   "outputs": [
    {
     "name": "stdin",
     "output_type": "stream",
     "text": [
      "Enter your password:  Niera_03@\n"
     ]
    },
    {
     "name": "stdout",
     "output_type": "stream",
     "text": [
      "Password Strength: Strong\n"
     ]
    }
   ],
   "source": [
    "import re\n",
    "def check_password_strength(password):\n",
    "    length_error = len(password) < 8\n",
    "    lowercase_error = re.search(r\"[a-z]\", password) is None\n",
    "    uppercase_error = re.search(r\"[A-Z]\", password) is None\n",
    "    digit_error = re.search(r\"\\d\", password) is None\n",
    "    special_char_error = re.search(r\"[!@#$%^&*(),.?\\\":{}|<>]\", password) is None\n",
    "    errors = sum([length_error, lowercase_error, uppercase_error, digit_error, special_char_error])\n",
    "    if errors == 0:\n",
    "        strength = \"Strong\"\n",
    "    elif errors == 1:\n",
    "        strength = \"Moderate\"\n",
    "    else:\n",
    "        strength = \"Weak\"\n",
    "    feedback = []\n",
    "    if length_error:\n",
    "        feedback.append(\"Password should be at least 8 characters long.\")\n",
    "    if lowercase_error:\n",
    "        feedback.append(\"Include at least one lowercase letter.\")\n",
    "    if uppercase_error:\n",
    "        feedback.append(\"Include at least one uppercase letter.\")\n",
    "    if digit_error:\n",
    "        feedback.append(\"Include at least one number.\")\n",
    "    if special_char_error:\n",
    "        feedback.append(\"Include at least one special character (!@#$%^&* etc.).\")\n",
    "\n",
    "    return strength, feedback\n",
    "password = input(\"Enter your password: \")\n",
    "strength, feedback = check_password_strength(password)\n",
    "print(f\"Password Strength: {strength}\")\n",
    "if feedback:\n",
    "    print(\"Suggestions:\")\n",
    "    for f in feedback:\n",
    "        print(f\"- {f}\")\n"
   ]
  },
  {
   "cell_type": "code",
   "execution_count": null,
   "id": "29c57478-8f26-49f5-9e9b-71bb7c7c2517",
   "metadata": {},
   "outputs": [],
   "source": []
  }
 ],
 "metadata": {
  "kernelspec": {
   "display_name": "Python [conda env:base] *",
   "language": "python",
   "name": "conda-base-py"
  },
  "language_info": {
   "codemirror_mode": {
    "name": "ipython",
    "version": 3
   },
   "file_extension": ".py",
   "mimetype": "text/x-python",
   "name": "python",
   "nbconvert_exporter": "python",
   "pygments_lexer": "ipython3",
   "version": "3.13.5"
  }
 },
 "nbformat": 4,
 "nbformat_minor": 5
}
